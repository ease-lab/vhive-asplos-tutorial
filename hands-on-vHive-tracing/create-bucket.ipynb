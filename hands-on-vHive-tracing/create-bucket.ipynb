{
 "cells": [
  {
   "cell_type": "markdown",
   "id": "db4431c1-52c4-49a0-a7c3-45ce83602cc0",
   "metadata": {},
   "source": [
    "# Create an AWS S3 bucket"
   ]
  },
  {
   "cell_type": "markdown",
   "id": "3d6d31ba-7e65-4184-9482-b74ecfcba450",
   "metadata": {},
   "source": [
    "## Installing dependencies\n",
    "Here we install relevant dependencies to create an AWS S3 bucket"
   ]
  },
  {
   "cell_type": "code",
   "execution_count": null,
   "id": "42aa807a-06b6-497e-af56-10dfd62d5803",
   "metadata": {},
   "outputs": [],
   "source": [
    "!pip install awscli --upgrade --user"
   ]
  },
  {
   "cell_type": "markdown",
   "id": "9b68ee83-a86b-433c-be8f-cbfa4c09dbb7",
   "metadata": {},
   "source": [
    "## Setting AWS environmental variables\n",
    "Here we set up AWS environmental variables so that we will be able to deploy to our AWS account. Please replace it with provided credentials."
   ]
  },
  {
   "cell_type": "code",
   "execution_count": null,
   "id": "d0d06918-0be7-4a6c-ae42-6b65ebe4afe3",
   "metadata": {},
   "outputs": [],
   "source": [
    "%env AWS_ACCESS_KEY_ID=<AWS_ACCESS_KEY_ID>\n",
    "%env AWS_SECRET_ACCESS_KEY=<AWS_SECRET_ACCESS_KEY>\n",
    "%env AWS_ACCOUNT_ID=<AWS_ACCOUNT_ID>"
   ]
  },
  {
   "cell_type": "markdown",
   "id": "e9031009-ccfe-4a03-bacf-ed9d5d1f4825",
   "metadata": {},
   "source": [
    "## Setting up identifier\n",
    "\n",
    "Here we set up personal identifier. You will need to replace \"FirstName LastName\" with your first name and lastname."
   ]
  },
  {
   "cell_type": "code",
   "execution_count": null,
   "id": "ec5e0167-17c9-47ad-b92d-a94c8f7545d4",
   "metadata": {},
   "outputs": [],
   "source": [
    "import hashlib\n",
    "import datetime\n",
    "res=hashlib.sha224(bytes(\"FirstName LastName\"+str(datetime.datetime.now().timestamp()),'utf-8')).hexdigest()[:5]\n",
    "%env HASH=$res\n",
    "%env AWS_DEFAULT_REGION=us-west-1"
   ]
  },
  {
   "cell_type": "markdown",
   "id": "5a4e7cb7-7ce3-411c-a457-cd02affb11d1",
   "metadata": {},
   "source": [
    "# Create S3 bucket"
   ]
  },
  {
   "cell_type": "code",
   "execution_count": null,
   "id": "5d7b4ea3-f3fb-472f-abcf-6480b6af3fc6",
   "metadata": {},
   "outputs": [],
   "source": [
    "!aws s3api create-bucket --bucket $HASH --create-bucket-configuration LocationConstraint=us-west-1"
   ]
  },
  {
   "cell_type": "markdown",
   "id": "2e0a9bee-55d2-4b2d-a976-1a4a3e566252",
   "metadata": {},
   "source": [
    "If this results in an error due to name clash, re-run the Hash code block with a different \"FirstName LastName\" and try creating a bucket again"
   ]
  }
 ],
 "metadata": {
  "kernelspec": {
   "display_name": "Python 3 (ipykernel)",
   "language": "python",
   "name": "python3"
  },
  "language_info": {
   "codemirror_mode": {
    "name": "ipython",
    "version": 3
   },
   "file_extension": ".py",
   "mimetype": "text/x-python",
   "name": "python",
   "nbconvert_exporter": "python",
   "pygments_lexer": "ipython3",
   "version": "3.7.12"
  }
 },
 "nbformat": 4,
 "nbformat_minor": 5
}
